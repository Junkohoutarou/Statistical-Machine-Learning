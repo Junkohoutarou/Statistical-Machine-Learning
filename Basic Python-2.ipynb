{
 "cells": [
  {
   "cell_type": "markdown",
   "id": "5adfb3b0-0e58-45d5-ae01-00a46d235303",
   "metadata": {},
   "source": [
    "Câu 1: Viết chương trình nhập vào hai số nguyên a và b. In ra 1 nếu hai số bằng nhau, in ra 0 nếu hai số khác nhau."
   ]
  },
  {
   "cell_type": "code",
   "execution_count": 2,
   "id": "36be03eb-e2d5-4d70-b15b-f90e5b667714",
   "metadata": {},
   "outputs": [
    {
     "name": "stdin",
     "output_type": "stream",
     "text": [
      " 1 \n",
      " 2\n"
     ]
    },
    {
     "name": "stdout",
     "output_type": "stream",
     "text": [
      "0\n"
     ]
    }
   ],
   "source": [
    "#Số bằng nhau\n",
    "a = int(input())\n",
    "b = int(input())\n",
    "if a == b:\n",
    "    print(1)\n",
    "else:\n",
    "    print(0)"
   ]
  },
  {
   "cell_type": "markdown",
   "id": "c2e27c5d-6f92-4dc8-a87b-ada65e8c06fc",
   "metadata": {},
   "source": [
    "Câu 2: DÂY XÍCH\n",
    "Người ta dùng dây thép tròn độ dày (đường kính thiết diện ngang) d làm n vòng tròn bán kính vòng tròn trong là r, móc nối với nhau thành một dây xích, mỗi vòng tròn là một mắt xích. Hình 1 nêu trường hợp dây có 3 mắt xích. Nếu dây xích có nhiều hơn một mắt xích thì tồn tại hai vòng tròn, mỗi vòng chỉ nối với đúng một vòng tròn khác, đó là các mắt xích đầu và cuối. Cầm 2 mắt xích đầu và cuối, kéo căng ra, ta có dây xích độ dài L."
   ]
  },
  {
   "cell_type": "code",
   "execution_count": null,
   "id": "01244b30-9ede-4b5f-a5d7-c08e5b390b97",
   "metadata": {},
   "outputs": [],
   "source": [
    "#Dây xích\n",
    "d, r, n = map(int, input().split())\n",
    "L = 2*d+2*r*n\n",
    "print(L)"
   ]
  },
  {
   "cell_type": "markdown",
   "id": "c0aff8cb-6835-44f5-8d44-2e763714152d",
   "metadata": {},
   "source": [
    "Câu 3: Nhập a, b, c là các số thực. In ra giá trị của biểu thức sau với 2 số lẻ sau dấu thập phân:"
   ]
  },
  {
   "cell_type": "code",
   "execution_count": 5,
   "id": "b90605f5-6c08-4631-ba8a-d0f20530db23",
   "metadata": {},
   "outputs": [
    {
     "name": "stdin",
     "output_type": "stream",
     "text": [
      " 5 0 9\n"
     ]
    },
    {
     "name": "stdout",
     "output_type": "stream",
     "text": [
      "3125.00\n"
     ]
    }
   ],
   "source": [
    "#Tính biểu thức\n",
    "import math as m\n",
    "a , b, c = map(float, input().split())\n",
    "print('{:0.2f}'.format(a**5-2*m.sqrt(abs(b))+a*b*c))"
   ]
  },
  {
   "cell_type": "markdown",
   "id": "e317a360-49ab-4ef3-80d1-6b7efadf5330",
   "metadata": {},
   "source": [
    "Câu 3: Viết chương trình tìm tất cả các số chia hết cho 7 nhưng không phải bội số của 5, nằm trong đoạn a và b được nhập từ bàn phím. Các số thu được sẽ được in thành chuỗi trên một dòng, cách nhau bằng dấu phẩy."
   ]
  },
  {
   "cell_type": "code",
   "execution_count": 8,
   "id": "95275f5c-90d0-4efc-9efe-480db7c5c2a9",
   "metadata": {},
   "outputs": [
    {
     "name": "stdin",
     "output_type": "stream",
     "text": [
      " 2 \n",
      " 9\n"
     ]
    },
    {
     "name": "stdout",
     "output_type": "stream",
     "text": [
      "7\n"
     ]
    }
   ],
   "source": [
    "#Chia hết cho 7\n",
    "a= int(input())\n",
    "b=int(input())\n",
    "res=[]\n",
    "for i in range(a, b+1):\n",
    "  if i % 7 ==0 and i % 5!=0:\n",
    "    res.append(str(i))\n",
    "print(','.join(res))"
   ]
  },
  {
   "cell_type": "markdown",
   "id": "b2ffbb14-bc2e-4278-97c7-2f300672ca1b",
   "metadata": {},
   "source": [
    "Câu 5: Gà và Chó\n",
    "\"Vừa gà vừa chó\n",
    "Bó lại cho tròn\n",
    "xxx con\n",
    "yy chân chẵn\"\n",
    "Hãy xác định số con gà và số con chó thỏa mãn yêu cầu."
   ]
  },
  {
   "cell_type": "code",
   "execution_count": 10,
   "id": "070e1b4d-6de5-4302-a313-924d96e699b1",
   "metadata": {},
   "outputs": [
    {
     "name": "stdin",
     "output_type": "stream",
     "text": [
      " 36 100\n"
     ]
    },
    {
     "name": "stdout",
     "output_type": "stream",
     "text": [
      "22 14\n"
     ]
    }
   ],
   "source": [
    "#Gà và chó\n",
    "x, y = map(int, input().split())\n",
    "b= (y-2*x)/2\n",
    "a=x-b\n",
    "print(int(a), int(b))"
   ]
  },
  {
   "cell_type": "markdown",
   "id": "01a70a46-87f2-43bf-93d7-b22a9c18bc8f",
   "metadata": {},
   "source": [
    "Câu 6: XỬ LÝ CHUỖI\n",
    "Bob đang tham dự một lớp học lập trình. Bài tập đầu tiên của Bob là viết một chương trình đơn giản. Chương trình sẽ yêu cầu nhập một chuỗi, sau đó nếu có chữ viết hoa trong chuỗi thì thay thế chúng bằng những chữ viết thường. Xóa hết tất cả các nguyên âm và chèn dấu \".\" trước mỗi phụ âm có trong chuỗi đó.\n",
    "Biết nguyên âm là những kí tự \"A\", \"O\", \"Y\", \"E\", \"U\", \"I\" và những kí tự còn lại là phụ âm. Chương trình sẽ nhận đầu vào là mỗi chuỗi và đầu ra là một chuỗi sau khi xử lí những yêu cầu trên.\n",
    "Bob đang loay hoay không biết làm bài này như thế nào. Bạn hãy giúp Bob nhé."
   ]
  },
  {
   "cell_type": "code",
   "execution_count": 11,
   "id": "c4ce092e-14e6-48c6-92f0-b8fcd8dcf8cb",
   "metadata": {},
   "outputs": [
    {
     "name": "stdin",
     "output_type": "stream",
     "text": [
      " pyThon\n"
     ]
    },
    {
     "name": "stdout",
     "output_type": "stream",
     "text": [
      ".p.t.h.n\n"
     ]
    }
   ],
   "source": [
    "#Xử lí chuỗi\n",
    "s = input()\n",
    "s = s.lower()\n",
    "s = s.replace('a', '').replace('e', '').replace('i', '').replace('u', '').replace('o', '').replace('y', '')\n",
    "\n",
    "res = ''\n",
    "for char in s:\n",
    "   res += '.' + char\n",
    "\n",
    "print(res)"
   ]
  },
  {
   "cell_type": "markdown",
   "id": "0b0a2642-c99a-4ecd-b430-d081a6f9f63d",
   "metadata": {},
   "source": [
    "câu 7: Khi thi đại học, hầu hết các môn làm bài dưới dạng trắc nghiệm. Khi làm bài trắc nghiệm đôi khi kết quả có những con số rất lẻ ví dụ như đánh đúng 29/60 thì sẽ được 4,8333 điểm. Trong khi đó quy chế thi đại học yêu cầu điểm các môn chỉ được giữ số lẻ đến từng 1/4. Tức là điểm phải có thể viết ở dạng a+b*(1/4) với a, b là hai số nguyên. Các điểm số quá lẻ như 4,83 phải được làm tròn đến số lẻ 1/4 gần nhất. Một trong những công thức phổ biến là lấy 4,83333 nhân 4. Sau đó làm tròn đến hàng đơn vị theo nguyên tắc thông thường rồi chia kết quả cho 4 ta có 4.75 điểm. Nhưng nếu yêu cầu là làm tròn số lẻ đế từng mức 1/n thì sao?"
   ]
  },
  {
   "cell_type": "code",
   "execution_count": null,
   "id": "a35c1120-c677-4d01-97e1-f2dd30f45c8f",
   "metadata": {},
   "outputs": [],
   "source": [
    "#Làm tròn số\n",
    "a, n = input().split()\n",
    "a, n = float(a), int(n)\n",
    "a = round(a * n)/ n\n",
    "print('%.10g' %a)"
   ]
  },
  {
   "cell_type": "markdown",
   "id": "f232e3f1-52a9-473f-a1a3-80c810fd098f",
   "metadata": {},
   "source": [
    "Câu 8: Viết hàm đệ quy tính N!."
   ]
  },
  {
   "cell_type": "code",
   "execution_count": null,
   "id": "54354af5-e7de-4886-a8a9-864bcf9e723b",
   "metadata": {},
   "outputs": [],
   "source": [
    "#Giai thừa\n",
    "n = int(input())\n",
    " \n",
    "def factorial(n):\n",
    "    if n == 0:\n",
    "        return 1\n",
    "    return n * factorial(n - 1)\n",
    " \n",
    "print (factorial(n))"
   ]
  },
  {
   "cell_type": "markdown",
   "id": "06f3135c-3c68-4c80-a33a-a50ecaff57cc",
   "metadata": {},
   "source": [
    "Câu 9: Viết chương trình nhập 2 số nguyên a, b khác 0. Tính tổng, hiệu, tích, thương hai số nguyên a, b vừa nhập."
   ]
  },
  {
   "cell_type": "code",
   "execution_count": null,
   "id": "246c2577-31fb-4433-8705-6ac8076852c2",
   "metadata": {},
   "outputs": [],
   "source": [
    "#Tổng , hiệu, tích, thương\n",
    "while True:\n",
    "  a,b  = map(int, input().split())\n",
    "  if a != 0 and b !=0:\n",
    "    break\n",
    "\n",
    "print(str(a) + \" + \" + str(b) + \" = \" + str(a + b))\n",
    "print(str(a) + \" - \" + str(b) + \" = \" + str(a - b))\n",
    "print(str(a) + \" x \" + str(b) + \" = \" + str(a * b))\n",
    "print(str(a) + \" : \" + str(b) + \" = \" + '{:0.2f}'.format(a / b))"
   ]
  },
  {
   "cell_type": "markdown",
   "id": "c8aa016e-781c-4962-a09d-8691dfc3b49b",
   "metadata": {},
   "source": [
    "Câu 10: Viết chương trình kiểm tra số đối xứng (palindrome).\n",
    "Định nghĩa: Số đối xứng là một số tự nhiên mà khi đảo ngược các chữ số vẫn không thay đổi, ví dụ: số 16461 là số đối xứng."
   ]
  },
  {
   "cell_type": "code",
   "execution_count": null,
   "id": "fba2b84e-cc90-4f0d-9e5c-025c8ca2ead9",
   "metadata": {},
   "outputs": [],
   "source": [
    "#Số đối xứng\n",
    "n = int(input())\n",
    "st = str(n)\n",
    "reversed_st = st[::-1] \n",
    "\n",
    "if st == reversed_st:\n",
    "    print('true')\n",
    "else:\n",
    "    print('false')"
   ]
  },
  {
   "cell_type": "markdown",
   "id": "df67cd7b-935c-4469-96ad-bd3adb6ff26f",
   "metadata": {},
   "source": [
    "Câu 11: Kiểm tra 2 chuỗi nhập vào có phải là chuỗi nghịch đảo hay không."
   ]
  },
  {
   "cell_type": "code",
   "execution_count": null,
   "id": "540e2987-c7d3-4e0e-8fc5-f1484669468d",
   "metadata": {},
   "outputs": [],
   "source": [
    "#Chuỗi nghịch đảo\n",
    "str1 = input()\n",
    "str2 = input()\n",
    "\n",
    "if len(str1) != len(str2):\n",
    "    print(\"NO\")\n",
    "else:\n",
    "    is_inverse = True\n",
    "    for i in range(len(str1)):\n",
    "        if str1[i] != str2[len(str2) - 1 - i]:\n",
    "            is_inverse = False\n",
    "            break\n",
    "\n",
    "    if is_inverse:\n",
    "        print(\"YES\")\n",
    "    else:\n",
    "        print(\"NO\")"
   ]
  },
  {
   "cell_type": "markdown",
   "id": "894c2773-5437-4ed1-8823-1115edcb58d0",
   "metadata": {},
   "source": [
    "Câu 12: Viết chương trình nhập vào 3 số thực a, b và c. In ra các số theo thứ tự tăng dần."
   ]
  },
  {
   "cell_type": "code",
   "execution_count": null,
   "id": "f98e54e6-59ae-4a57-8cbc-ed16482f7c9f",
   "metadata": {},
   "outputs": [],
   "source": [
    "#Thứ tự tăng dần\n",
    "def main():\n",
    "    a = float(input())\n",
    "    b = float(input())\n",
    "    c = float(input())\n",
    "    if a%1==0:a=int(a) \n",
    "    if b%1==0:b=int(b) \n",
    "    if c%1==0:c=int(c)\n",
    "    numbers = [a, b, c]\n",
    "    numbers.sort()\n",
    "\n",
    "    print(*numbers)\n",
    "\n",
    "\n",
    "if __name__ == \"__main__\":\n",
    "  main()"
   ]
  },
  {
   "cell_type": "markdown",
   "id": "0e344afb-77a4-43a0-b23a-4fb35f6f6faa",
   "metadata": {},
   "source": [
    "Câu 13: Viết chương trình nhập 3 số nguyên dương a, b, c sao cho a, b, c là 3 cạnh của một tam giác và tính diện tích của tam giác đó."
   ]
  },
  {
   "cell_type": "code",
   "execution_count": null,
   "id": "75f85c70-dc74-4280-83d3-856ef794d32e",
   "metadata": {},
   "outputs": [],
   "source": [
    "#Diện tích tam giác\n",
    "import math\n",
    "a , b, c =map(float, input().split())\n",
    "if a + b > c and a + c > b and b + c > a:\n",
    "    s = (a + b + c) / 2\n",
    "    area = math.sqrt(s * (s - a) * (s - b) * (s - c))\n",
    "    print(f\"{area:.2f}\")"
   ]
  },
  {
   "cell_type": "markdown",
   "id": "cc2bb4c8-cee4-4076-8772-b87ad93c3f12",
   "metadata": {},
   "source": [
    "Câu 14: Nhập vào số nguyên x sao cho 1 ≤ x ≤ 30."
   ]
  },
  {
   "cell_type": "code",
   "execution_count": null,
   "id": "8ef10dcd-e82a-482d-b7c8-0712367ee481",
   "metadata": {},
   "outputs": [],
   "source": [
    "#Số fibonaci\n",
    "def fibonacci(n):\n",
    "    if n <= 0:\n",
    "        return 0\n",
    "    elif n == 1:\n",
    "        return 1\n",
    "    else:\n",
    "        a, b = 0, 1\n",
    "        for _ in range(2, n + 1):\n",
    "            a, b = b, a + b\n",
    "        return b\n",
    "x = int(input())\n",
    "if 1 <= x <= 30:\n",
    "    result = fibonacci(x)\n",
    "    print(result)\n",
    "else:\n",
    "  print(f\"So {x} khong nam trong khoang [1,30].\")"
   ]
  },
  {
   "cell_type": "markdown",
   "id": "f8bd731a-e35f-457c-ad3e-50433d7f6364",
   "metadata": {},
   "source": [
    "Câu 15: Viết chương trình nhập 2 số nguyên a và b.\n",
    "In ra màn hình số lớn nhất, nhỏ nhất trong 2 số nguyên a và b vừa nhập.\n",
    "Gợi ý: Có thể áp dụng công thức sau để tìm max, min giữa 2 số nguyên:"
   ]
  },
  {
   "cell_type": "code",
   "execution_count": null,
   "id": "20fdfd7f-7399-44ed-b175-43e87a067995",
   "metadata": {},
   "outputs": [],
   "source": [
    "#Min, Max\n",
    "a,b = map(int, input().split())\n",
    "Max= (a + b + abs(a - b)) // 2\n",
    "Min= (a + b - abs(a - b)) // 2\n",
    "print(f\"max = {Max}\")\n",
    "print(f\"min = {Min}\")"
   ]
  },
  {
   "cell_type": "markdown",
   "id": "547881e7-d7e5-418d-b27e-19dfa5b24480",
   "metadata": {},
   "source": [
    "Câu 16: Viết hàm tính tổng tất cả các chữ số của số nguyên dương N."
   ]
  },
  {
   "cell_type": "code",
   "execution_count": null,
   "id": "1413e31b-388d-48aa-b53b-17863a77794e",
   "metadata": {},
   "outputs": [],
   "source": [
    "#Tổng các chữ số\n",
    "n = input()\n",
    "Sum =0\n",
    "st = str(n)\n",
    "for i in st:\n",
    "  Sum += int(i)\n",
    "print(Sum)"
   ]
  },
  {
   "cell_type": "markdown",
   "id": "1ef48430-e1c0-4a88-8afb-b1ccd96c38fc",
   "metadata": {},
   "source": [
    "Câu 17: Sau khi quan sát nhân tình thế thái, Bình rút ra được 3 chân lý sau:\n",
    "\n",
    "\"Mấy đứa trẻ trung đều đẹp cả\".\n",
    "\"Mấy đứa đẹp đều có người yêu\".\n",
    "\"Mấy đứa không đẹp mà cũng có người yêu chắc chắn là vì nó giàu\".\n",
    "Cho 4 biến logic: tre_trung, xinh_dep, co_gau, giau_co tương ứng với giá trị của các mệnh đề sau:\n",
    "\n",
    "\"Bạn X trẻ trung\".\n",
    "\"Bạn X xinh đẹp\".\n",
    "\"Bạn X có người yêu\".\n",
    "\"Bạn X giàu có\".\n",
    "Viết chương trình kiểm tra xem X có thỏa các chân lý mà Bình quan sát được không."
   ]
  },
  {
   "cell_type": "code",
   "execution_count": null,
   "id": "df4c9251-fc42-4226-b51e-b6b1d2dddb2b",
   "metadata": {},
   "outputs": [],
   "source": [
    "#Logic cuộc đời\n",
    "tre_trung, xinh_dep, co_gau, giau_co= map(int, input().split())\n",
    "dk1 = not tre_trung or xinh_dep\n",
    "dk2 = not xinh_dep or co_gau\n",
    "dk3 = (xinh_dep or  not co_gau) or giau_co\n",
    "\n",
    "if dk1 and dk2 and dk3:\n",
    "    print(1)\n",
    "else:\n",
    "    print(0)"
   ]
  },
  {
   "cell_type": "markdown",
   "id": "785fb968-ae13-4229-812d-3de8a99d918b",
   "metadata": {},
   "source": [
    "Câu 18: Viết một chương trình chấp nhận đầu vào là một câu, đếm số chữ cái và chữ số trong câu đó."
   ]
  },
  {
   "cell_type": "code",
   "execution_count": null,
   "id": "8f600187-a561-4ff7-8d7a-b51e20b13127",
   "metadata": {},
   "outputs": [],
   "source": [
    "#Đếm kí tự\n",
    "s = input()\n",
    "\n",
    "count_letters = 0\n",
    "count_digits = 0\n",
    "\n",
    "for char in s:\n",
    "    if char.isalpha():  \n",
    "        count_letters += 1\n",
    "    elif char.isdigit():  \n",
    "        count_digits += 1\n",
    "\n",
    "\n",
    "print(f\"{count_letters}\")\n",
    "print(f\"{count_digits}\")"
   ]
  },
  {
   "cell_type": "markdown",
   "id": "0bdb5aee-1483-4701-b844-562b8e0b1b61",
   "metadata": {},
   "source": [
    "Câu 19: Tìm ra áp suất chất lỏng/khí và cách đo đạt chúng là một vấn đề nghiên cứu vật lý thực nghiệm từng làm đau đầu nhiều nhà khoa học thời trung cổ. Đã có nhiều nhà khoa học khác nhau đề xuất các thang đo khác nhau. Tuy nhiên ngày nay một đơn vị đo áp suất phổ thông mà dễ hiểu là tính lực tác động (theo khối lượng) chia cho diện tích. Khổ nổi trong hệ đo lường quốc tế (SI) và hệ đo Imperial phổ biến ở Mỹ người ta đo khối lượng và áp suất bằng cách đơn vị khác nhau. Bạn Bình vừa mua một con mô-tô phân khối lớn hàng nhập nguyên chiếc từ Mỹ về, tài liệu hướng dẫn của xe ghi áp suất phù hợp khi bơm xe bằng đơn vị PSI (Pound / square inches - 1 pound lực trên một inch vuông). Còn ống bơm của Bình tích hợp đồng hồ đo áp suất bằng đơn vị kg/cm2 (1 kilogram lực trên một centimét vuông).\n",
    "Biết: 1 pound = 0.453592 kg và 1 inch = 2,54 cm. Viết công thức giúp Bình đổi PSI sang kg/cm2."
   ]
  },
  {
   "cell_type": "code",
   "execution_count": null,
   "id": "dedccf9a-1f57-414b-b879-d2add0d5df16",
   "metadata": {},
   "outputs": [],
   "source": [
    "#Áp suất\n",
    "psi = float(input())\n",
    "\n",
    "kg_per_cm2 = psi * (0.453592/(2.54**2))\n",
    "\n",
    "S = str(kg_per_cm2)\n",
    "comma_index = S.find('.')\n",
    "tam = 6 - comma_index\n",
    "kg_per_cm2 = round(kg_per_cm2, tam)\n",
    "print(kg_per_cm2)"
   ]
  },
  {
   "cell_type": "markdown",
   "id": "5ba0c581-9c68-45ed-a08d-4398f63ce29e",
   "metadata": {},
   "source": [
    "Câu 20: Viết chương trình giải phương trình bậc hai: ax2 + bx + c = 0 (a ≠ 0)."
   ]
  },
  {
   "cell_type": "code",
   "execution_count": null,
   "id": "fe9a1e8d-9bfa-4f89-806c-ff862f0bfaee",
   "metadata": {},
   "outputs": [],
   "source": [
    "#Giải phương trình bậc 2\n",
    "import math\n",
    "\n",
    "a = float(input())\n",
    "b = float(input())\n",
    "c = float(input())\n",
    "\n",
    "if a == 0:\n",
    "    print(\"a phai khac 0\")\n",
    "else:\n",
    "    delta = b**2 - 4*a*c\n",
    "\n",
    "    if delta > 0:\n",
    "        x1 = (-b + math.sqrt(delta)) / (2*a)\n",
    "        x2 = (-b - math.sqrt(delta)) / (2*a)\n",
    "        if x1%1==0:x1=int(x1) \n",
    "        if x2%1==0:x2=int(x2) \n",
    "        print(f\"PT co hai nghiem phan biet:\\n\\nx1 = {x1}\\nx2 = {x2}\")\n",
    "    elif delta == 0:\n",
    "        x = -b / (2*a)\n",
    "        if x%1==0:x=int(x) \n",
    "        print(f\"PT co nghiem kep: x1 = x2 = {x}\")\n",
    "    else:\n",
    "        print(\"PTVN\")"
   ]
  },
  {
   "cell_type": "markdown",
   "id": "e922a13d-0969-4496-a5ad-862e125f3392",
   "metadata": {},
   "source": [
    "Câu 21: Viết chương trình phân loại nhân khẩu"
   ]
  },
  {
   "cell_type": "code",
   "execution_count": null,
   "id": "46764015-ef98-4940-a457-fe99a392d1b6",
   "metadata": {},
   "outputs": [],
   "source": [
    "#Phân loại nhân khẩu\n",
    "age = int(input())\n",
    "gender = input().lower()\n",
    "\n",
    "\n",
    "if age >= 21:\n",
    "    if gender == \"m\":\n",
    "        classification = 1\n",
    "    elif gender == \"f\":\n",
    "        classification = 2\n",
    "    else:\n",
    "        classification = \"I do not know why\"\n",
    "else:\n",
    "    if gender == \"m\":\n",
    "        classification = 3\n",
    "    elif gender == \"f\":\n",
    "        classification = 4\n",
    "    else:\n",
    "        classification = \"I do not know why\"\n",
    "\n",
    "\n",
    "print(classification)"
   ]
  },
  {
   "cell_type": "markdown",
   "id": "9a527df2-0761-40e0-b829-f67e356648ce",
   "metadata": {},
   "source": [
    "Câu 22: Viết chương trình tính Giai thừa kép"
   ]
  },
  {
   "cell_type": "code",
   "execution_count": null,
   "id": "425d4b47-e68d-4d71-bc18-f78f63146970",
   "metadata": {},
   "outputs": [],
   "source": [
    "#Giai thừa kép\n",
    "n = int(input())\n",
    "\n",
    "double_factorial = 1\n",
    "\n",
    "\n",
    "for i in range(n, 0, -2):\n",
    "    double_factorial *= i\n",
    "\n",
    "\n",
    "print(double_factorial)"
   ]
  },
  {
   "cell_type": "markdown",
   "id": "3bbfa3bb-a6ee-4ea7-97c0-82c6adce6351",
   "metadata": {},
   "source": [
    "Câu 23: Viết chương trình tính tổng ước số của một số nguyên dương."
   ]
  },
  {
   "cell_type": "code",
   "execution_count": null,
   "id": "c699ea3a-c99e-4b2b-b32c-abcca242c855",
   "metadata": {},
   "outputs": [],
   "source": [
    "#Tổng ước số\n",
    "n = int(input())\n",
    "sum_of_divisors = 0\n",
    "\n",
    "i = 2\n",
    "while i * i <= n:\n",
    "    if n % i == 0:\n",
    "        if i == (n // i):\n",
    "            sum_of_divisors += i\n",
    "        else:\n",
    "            sum_of_divisors += (i + n // i)\n",
    "    i += 1\n",
    "if n > 1:\n",
    "    sum_of_divisors += 1\n",
    "\n",
    "print(sum_of_divisors)"
   ]
  },
  {
   "cell_type": "markdown",
   "id": "7afc2bbe-a882-4d43-bfe1-838efb2888ca",
   "metadata": {},
   "source": [
    "Câu 24: Viết chương trình nhập số nguyên dương x.\n",
    "Nếu x là số chẵn thì in ra màn hình số 0, nếu x là số lẻ thì in ra màn hình số 1."
   ]
  },
  {
   "cell_type": "code",
   "execution_count": null,
   "id": "70dda523-901f-4c61-880f-392d760e42e2",
   "metadata": {},
   "outputs": [],
   "source": [
    "#Chẵn lẽ\n",
    "x = int(input())\n",
    "\n",
    "if x % 2 == 0:\n",
    "    print(0)\n",
    "else:\n",
    "    print(1)"
   ]
  },
  {
   "cell_type": "markdown",
   "id": "6737c04b-810a-4134-abb3-5035008624cd",
   "metadata": {},
   "source": [
    "Câu 25: Bình có một ma trận 5x5, bao gồm 24 số 0 và 1 số 1 với thứ tự ngẫu nhiên. Chỉ số các hàng và cột của ma trận được đánh số lần lượt từ 1 đến 5.\n",
    "Bình là một người rất kĩ tính và chỉ thích những thứ gì cân bằng và đồng đều. Chính vì vậy, anh ấy chỉ thích các ma trận mà có vị trí số một nằm ở giữa ma trận. Các bước hợp lệ để thay đổi một ma trận bao gồm: Hoán vị hai hàng liền kề của ma trận và hoán vị hai cột liền kề của ma trận.\n",
    "Hãy giúp Bình tìm số bước hợp lệ tối thiểu để biến một ma trận thỏa mãn sở thích của anh ấy."
   ]
  },
  {
   "cell_type": "code",
   "execution_count": null,
   "id": "680b6595-1602-4fbc-bb64-19046c62f036",
   "metadata": {},
   "outputs": [],
   "source": [
    "#Ma trận cốt lõi\n",
    "matrix = []\n",
    "for _ in range(5):\n",
    "    row = list(map(int, input().split()))\n",
    "    matrix.append(row)\n",
    "\n",
    "row_with_1, col_with_1 = None, None\n",
    "\n",
    "for i in range(5):\n",
    "    for j in range(5):\n",
    "        if matrix[i][j] == 1:\n",
    "            row_with_1, col_with_1 = i, j\n",
    "            break\n",
    "\n",
    "steps = abs(2 - row_with_1) + abs(2 - col_with_1)\n",
    "\n",
    "print(steps)"
   ]
  },
  {
   "cell_type": "markdown",
   "id": "ac199bdc-2c78-419e-b802-cadfb8ec9402",
   "metadata": {},
   "source": [
    "Câu 26: Số Armstrong là số có K chữ số và tổng lũy thừa bậc K của các chữ số bằng chính nó.\n",
    "Kiểm tra xem một số được nhập từ bàn phím có phải là Số Armstrong hay không?"
   ]
  },
  {
   "cell_type": "code",
   "execution_count": null,
   "id": "d9f6ac11-dfa7-4562-b887-2fdd3423810f",
   "metadata": {},
   "outputs": [],
   "source": [
    "#Số Armstrong\n",
    "num = int(input())\n",
    "def is_armstrong_number(num):\n",
    "    num_str = str(num)\n",
    "    k = len(num_str)\n",
    "    \n",
    "    total = 0\n",
    "    for digit_str in num_str:\n",
    "        digit = int(digit_str)\n",
    "        total += digit ** k\n",
    "\n",
    "    return total == num\n",
    "\n",
    "\n",
    "if is_armstrong_number(num):\n",
    "    print(\"True\")\n",
    "else:\n",
    "    print(\"False\")"
   ]
  },
  {
   "cell_type": "markdown",
   "id": "e1242ee6-1269-4639-8187-fc7cb0544cc0",
   "metadata": {},
   "source": [
    "Câu 27: Viết chương trình tính số tiền thực của một tài khoản ngân hàng dựa trên nhật ký giao dịch được nhập vào từ giao diện điều khiển. "
   ]
  },
  {
   "cell_type": "code",
   "execution_count": null,
   "id": "9ef7ce77-2280-4008-b989-64d7e49bbecd",
   "metadata": {},
   "outputs": [],
   "source": [
    "#Hoạt động ngân hàng\n",
    "N = int(input())\n",
    "\n",
    "balance = 0\n",
    "\n",
    "for _ in range(N):\n",
    "    command, amount = input().split()\n",
    "    amount = int(amount)\n",
    "    \n",
    "    if command == 'D':\n",
    "        balance += amount\n",
    "    elif command == 'W':\n",
    "        balance -= amount\n",
    "\n",
    "print(balance)"
   ]
  },
  {
   "cell_type": "markdown",
   "id": "4d646734-8f1e-492f-8ec5-e324fe4f5e70",
   "metadata": {},
   "source": [
    "Câu 28: MUA CÔCA\n",
    "Giữa giờ nghỉ chuyển tiết học Alice và Tôm tới ô tô mát bán nước giải khát để mua Côca. Không may trong máy không còn một lon Côca nào. Hai bạn quyết định chạy ra phố mua và dĩ nhiên chỉ cần một người đi là đủ. Trời nắng gắt và ai cũng ngại đi. Hai bạn quyết định chơi một trò chơi nhỏ và ai thua sẽ phải đi.\n",
    "Trong tay Alice đang có một băng giấy gồm các ô vuông, mỗi ô được tô một trong 2 màu Đỏ (R) hoặc Xanh (B). Độ rộng băng giấy bằng độ rộng ô vuông. Hai người lần lượt cắt băng thành các đoạn độ dài (số ô trên đoạn) lớn hơn 0.\n",
    "Quy tắc chơi là hai người lần lượt đi, ai đến lượt mình đi chọn một đoạn có ô ở hai đầu khác màu nhau và cắt đoạn đó ở vị trí tùy chọn để nhận được 2 đoạn, mỗi đoạn có độ dài lớn hơn 0.\n",
    "Ai đến lượt đi nhưng không thể chọn được đoạn để cắt là thua và phải đi mua Côca.\n",
    "Alice đi trước.\n",
    "Cho trạng thái băng giấy. Hãy xác định Alice sẽ thắng hay thua và đưa ra thông báo tương ứng là Win hoặc Lose với giả thiết cả hai đều biết cách đi tối ưu."
   ]
  },
  {
   "cell_type": "code",
   "execution_count": null,
   "id": "1213e7ea-1794-4654-a475-380aafe90c9e",
   "metadata": {},
   "outputs": [],
   "source": [
    "#Mua Coca\n",
    "s = input()\n",
    "cnt = 0\n",
    "for i in range(len(s)-1):\n",
    "  if s[i] != s[i+1]:\n",
    "    cnt+=1\n",
    "if cnt % 2 == 0:\n",
    "  print(\"Win\")\n",
    "else:\n",
    "  print(\"Lose\")"
   ]
  },
  {
   "cell_type": "markdown",
   "id": "ab1c28bd-a115-400c-887d-c279285a45cc",
   "metadata": {},
   "source": [
    "Câu 29: An và Bình rất thích ăn dưa hấu vì thế họ đi ra chợ chọn mua một trái to và chín nhất. Về đến nhà, một vấn đề nảy sinh đó là việc chia phần trái dưa hấu cho cả 2, không chỉ thế, do 2 người bạn chỉ thích sự hoàn hảo, vì thế cần chia quả dưa hấu làm sao cho hai phần có khối lượng bằng nhau. Hãy giúp An và Bình kiểm tra xem có thể chia quả dưa hấu này hay không."
   ]
  },
  {
   "cell_type": "code",
   "execution_count": null,
   "id": "143ebd01-8415-4076-adaf-d1c89deedc92",
   "metadata": {},
   "outputs": [],
   "source": [
    "#Gọt dưa\n",
    "a = float(input())\n",
    "if (a%2==0) and (a>2):\n",
    "    print(\"YES\")\n",
    "else:\n",
    "    print(\"NO\")"
   ]
  },
  {
   "cell_type": "markdown",
   "id": "b7fae8b7-11ff-4f26-820e-e1fc87869d3f",
   "metadata": {},
   "source": [
    "Câu 30: Theo hệ 12 con giáp chúng ta có 10 can là:\n",
    "CANH, TÂN, NHÂM, QUÝ, GIÁP, ẤT, BÍNH, ĐINH, MẬU, KỶ và 12 con giáp là:\n",
    "THÂN, DẬU, TUẤT, HỢI, TÝ, SỬU, DẦN, MẸO, THÌN, TỴ, NGỌ, MÙI\n",
    "Để đặt tên cho một năm âm lịch, người ta sẽ ghép một can với một con giáp. Năm tiếp theo sẽ mang tên của can tiếp theo và con giáp tiếp theo. Ví dụ năm 2015 là năm ẤT MÙI thì năm 2016 sẽ mang can tiếp theo là BÍNH và con giáp tiếp theo là THÂN, như vậy năm 2016 là năm BÍNH THÂN. Một công ty X muốn nhảy vào thị trường làm lịch, hãy giúp công ty X viết phần mềm tính tên âm lịch cho năm."
   ]
  },
  {
   "cell_type": "code",
   "execution_count": null,
   "id": "3548b2e5-d208-4758-b289-8d1417ec4a23",
   "metadata": {},
   "outputs": [],
   "source": [
    "#Can chi\n",
    "Can = ['CANH', 'TAN', 'NHAM', 'QUY','GIAP','AT','BINH','DINH','MAU','KY']\n",
    "Chi = ['THAN', 'DAU', 'TUAT', 'HOI', \"TY'\",'SUU','DAN','MEO','THIN','TY.','NGO','MUI']\n",
    "nam = int(input())\n",
    "if nam > 0:\n",
    "    can = nam % 10\n",
    "    if  nam <= 12:\n",
    "        print(Can[can], Chi[nam])\n",
    "    else:\n",
    "        chi = nam % 12\n",
    "        print(Can[can], Chi[chi])\n",
    "else:\n",
    "    nam = nam + 1\n",
    "    can = nam % 10\n",
    "    chi = nam % 12\n",
    "    print(Can[can], Chi[chi])"
   ]
  }
 ],
 "metadata": {
  "kernelspec": {
   "display_name": "Python 3 (ipykernel)",
   "language": "python",
   "name": "python3"
  },
  "language_info": {
   "codemirror_mode": {
    "name": "ipython",
    "version": 3
   },
   "file_extension": ".py",
   "mimetype": "text/x-python",
   "name": "python",
   "nbconvert_exporter": "python",
   "pygments_lexer": "ipython3",
   "version": "3.12.0"
  }
 },
 "nbformat": 4,
 "nbformat_minor": 5
}
