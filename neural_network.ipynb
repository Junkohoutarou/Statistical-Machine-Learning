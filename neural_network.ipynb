{
  "cells": [
    {
      "cell_type": "markdown",
      "metadata": {
        "id": "EY_hEDDNj0Du"
      },
      "source": [
        "<center><h1>Bài thực hành 11. LÀM QUEN VỚI MẠNG NEURAL CƠ BẢN</h1></center>\n",
        "<br>\n",
        "<img src=\"https://www.analyticsvidhya.com/wp-content/uploads/2016/08/Artificial-Intelligence-Neural-Network-Nodes.jpg\" alt=\"neural network\">\n",
        "<br>\n",
        "<h3>Mô hình mạng neural trong hình trên có những loại layer:</h3>\n",
        "<h4>Input Layer</h4>\n",
        "<h4>Hidden Layer</h4>\n",
        "<h4>Output Layer</h4>\n",
        "\n"
      ]
    },
    {
      "cell_type": "markdown",
      "metadata": {
        "id": "c4zf7IhIj0D1"
      },
      "source": [
        "<h2> 1. LOAD DỮ LIỆU</h2>"
      ]
    },
    {
      "cell_type": "code",
      "execution_count": 100,
      "metadata": {
        "id": "FVscrAZkk3rO"
      },
      "outputs": [],
      "source": [
        "from keras.datasets.mnist import load_data\n",
        "(X_train, y_train), (X_test, y_test)=load_data()"
      ]
    },
    {
      "cell_type": "markdown",
      "metadata": {
        "id": "v22WMzbpj0D5"
      },
      "source": [
        "##### (?) MNIST là viết tắt của cụm từ nào?\n",
        ">Modified National Institute of Standards and Technology"
      ]
    },
    {
      "cell_type": "markdown",
      "metadata": {
        "id": "kzfgb4Dfj0D5"
      },
      "source": [
        "<h2> 2. CHUẨN BỊ DỮ LIỆU"
      ]
    },
    {
      "cell_type": "code",
      "execution_count": 101,
      "metadata": {
        "colab": {
          "base_uri": "https://localhost:8080/",
          "height": 447
        },
        "id": "H35hJ0Lplbi4",
        "outputId": "2ffd37d0-d4c2-43f1-b355-8a26b3c076b9"
      },
      "outputs": [
        {
          "data": {
            "text/plain": [
              "<matplotlib.image.AxesImage at 0x7af4b162a8f0>"
            ]
          },
          "execution_count": 101,
          "metadata": {},
          "output_type": "execute_result"
        },
        {
          "data": {
            "image/png": "[encoded data removed]",
            "text/plain": [
              "<Figure size 640x480 with 1 Axes>"
            ]
          },
          "metadata": {},
          "output_type": "display_data"
        }
      ],
      "source": [
        "import matplotlib.pyplot as plt\n",
        "plt.imshow(X_train[0])\n",
        "\n"
      ]
    },
    {
      "cell_type": "code",
      "execution_count": 102,
      "metadata": {
        "colab": {
          "base_uri": "https://localhost:8080/",
          "height": 430
        },
        "id": "_oqQL0f8m4iz",
        "outputId": "5e46e15c-cbd2-4717-9008-6ad6948279a8"
      },
      "outputs": [
        {
          "data": {
            "image/png": "[encoded data removed]",
            "text/plain": [
              "<Figure size 640x480 with 1 Axes>"
            ]
          },
          "metadata": {},
          "output_type": "display_data"
        }
      ],
      "source": [
        "plt.imshow(X_test[0], cmap='gray')\n",
        "plt.show()\n"
      ]
    },
    {
      "cell_type": "code",
      "execution_count": 103,
      "metadata": {
        "colab": {
          "base_uri": "https://localhost:8080/"
        },
        "id": "McRkbqEHoRzx",
        "outputId": "029a1842-dda9-4901-d26b-d7a6e6e8e377"
      },
      "outputs": [
        {
          "data": {
            "text/plain": [
              "(60000, 28, 28)"
            ]
          },
          "execution_count": 103,
          "metadata": {},
          "output_type": "execute_result"
        }
      ],
      "source": [
        "X_train.shape"
      ]
    },
    {
      "cell_type": "code",
      "execution_count": 104,
      "metadata": {
        "colab": {
          "base_uri": "https://localhost:8080/"
        },
        "id": "ik5FNuhEoZHP",
        "outputId": "8bd2f4a0-de0c-43a0-ce5c-1b87b0b2bd6b"
      },
      "outputs": [
        {
          "data": {
            "text/plain": [
              "(28, 28)"
            ]
          },
          "execution_count": 104,
          "metadata": {},
          "output_type": "execute_result"
        }
      ],
      "source": [
        "X_train[0].shape"
      ]
    },
    {
      "cell_type": "code",
      "execution_count": 105,
      "metadata": {
        "colab": {
          "base_uri": "https://localhost:8080/"
        },
        "id": "q5yXM3toohKm",
        "outputId": "b098390c-f997-4818-eb1e-01bb819bce77"
      },
      "outputs": [
        {
          "data": {
            "text/plain": [
              "(10000, 28, 28)"
            ]
          },
          "execution_count": 105,
          "metadata": {},
          "output_type": "execute_result"
        }
      ],
      "source": [
        "X_test.shape"
      ]
    },
    {
      "cell_type": "code",
      "execution_count": 106,
      "metadata": {
        "colab": {
          "base_uri": "https://localhost:8080/"
        },
        "id": "-Wj8JYiyol6B",
        "outputId": "925cd8e4-db58-4c67-eaf8-6bee47c4cc94"
      },
      "outputs": [
        {
          "data": {
            "text/plain": [
              "(28, 28)"
            ]
          },
          "execution_count": 106,
          "metadata": {},
          "output_type": "execute_result"
        }
      ],
      "source": [
        "X_test[0].shape"
      ]
    },
    {
      "cell_type": "code",
      "execution_count": 107,
      "metadata": {
        "colab": {
          "base_uri": "https://localhost:8080/"
        },
        "id": "in2AvtpOoqqN",
        "outputId": "2ccbf3ad-0099-45c0-bf27-0c34810b46d7"
      },
      "outputs": [
        {
          "data": {
            "text/plain": [
              "(10000,)"
            ]
          },
          "execution_count": 107,
          "metadata": {},
          "output_type": "execute_result"
        }
      ],
      "source": [
        "y_test.shape"
      ]
    },
    {
      "cell_type": "code",
      "execution_count": 108,
      "metadata": {
        "colab": {
          "base_uri": "https://localhost:8080/"
        },
        "id": "doHTr8lxov0a",
        "outputId": "a30c9404-6f8d-4351-ed21-7ee907373d02"
      },
      "outputs": [
        {
          "data": {
            "text/plain": [
              "(60000,)"
            ]
          },
          "execution_count": 108,
          "metadata": {},
          "output_type": "execute_result"
        }
      ],
      "source": [
        "y_train.shape"
      ]
    },
    {
      "cell_type": "markdown",
      "metadata": {
        "id": "SaHHKVc0oNd0"
      },
      "source": [
        "### (?) Hãy khảo sát bộ dữ liệu MNIST do thư viện Keras cung cấp:\n",
        "- Xác định số lượng ảnh của tập train và tập test?\n",
        ">Tập train có 60000 ảnh<br>\n",
        ">Tập test có 10000 ảnh\n",
        "- Tính tỉ lệ train : test?\n",
        ">Tỉ lệ train : test là 6:1\n",
        "- Xác định kích thước của mỗi ảnh trong tập train và tập test?\n",
        ">Kích thước mỗi ảnh là 28x28"
      ]
    },
    {
      "cell_type": "code",
      "execution_count": 109,
      "metadata": {
        "id": "abOTaxGQoz3e"
      },
      "outputs": [],
      "source": [
        "label_list=dict()\n",
        "\n",
        "for i in range(0, 9+1):\n",
        "  label_list[i]=list(y_train).count(i)"
      ]
    },
    {
      "cell_type": "markdown",
      "metadata": {
        "id": "-YI4gldppgDN"
      },
      "source": [
        "### (?) Xác định số lượng nhãn và liệt kê các nhãn có trong tập train?\n",
        ">Có 10 nhãn đánh số từ 0 - 9, các nhãn có trong tập train được liệt kê bên dưới."
      ]
    },
    {
      "cell_type": "code",
      "execution_count": 110,
      "metadata": {
        "colab": {
          "base_uri": "https://localhost:8080/"
        },
        "id": "49-dqblUpXvZ",
        "outputId": "e4d7396c-c484-4355-b4d9-5209760bb656"
      },
      "outputs": [
        {
          "data": {
            "text/plain": [
              "{0: 5923,\n",
              " 1: 6742,\n",
              " 2: 5958,\n",
              " 3: 6131,\n",
              " 4: 5842,\n",
              " 5: 5421,\n",
              " 6: 5918,\n",
              " 7: 6265,\n",
              " 8: 5851,\n",
              " 9: 5949}"
            ]
          },
          "execution_count": 110,
          "metadata": {},
          "output_type": "execute_result"
        }
      ],
      "source": [
        "label_list"
      ]
    },
    {
      "cell_type": "markdown",
      "metadata": {
        "id": "QlHOfidfp5pe"
      },
      "source": [
        "###**(?) Sử dụng thư viện Matplotlib để vẽ các biểu đồ sau:**"
      ]
    },
    {
      "cell_type": "code",
      "execution_count": 111,
      "metadata": {
        "colab": {
          "base_uri": "https://localhost:8080/",
          "height": 491
        },
        "id": "OJ_aLC-7pnut",
        "outputId": "aacfd470-92c1-4ef7-8ab8-50a3bdb2e803"
      },
      "outputs": [
        {
          "data": {
            "text/plain": [
              "<function matplotlib.pyplot.show(close=None, block=None)>"
            ]
          },
          "execution_count": 111,
          "metadata": {},
          "output_type": "execute_result"
        },
        {
          "data": {
            "image/png": "[encoded data removed]",
            "text/plain": [
              "<Figure size 640x480 with 1 Axes>"
            ]
          },
          "metadata": {},
          "output_type": "display_data"
        }
      ],
      "source": [
        "plt.bar(label_list.keys(), label_list.values(), color='blue')\n",
        "plt.title('Biểu đồ cột thể hiện sự phân bố các nhãn có trong tập train')\n",
        "plt.xlabel('Nhãn')\n",
        "plt.ylabel('Số lượng ảnh')\n",
        "plt.show"
      ]
    },
    {
      "cell_type": "markdown",
      "metadata": {
        "id": "W4xHjToVqUGA"
      },
      "source": [
        "####*Biểu đồ cột thể hiện sự phân bố các nhãn có trong tập train*"
      ]
    },
    {
      "cell_type": "code",
      "execution_count": 112,
      "metadata": {
        "colab": {
          "base_uri": "https://localhost:8080/",
          "height": 448
        },
        "id": "gFSXsZK4q-ba",
        "outputId": "f6e48c2f-51a7-4877-f008-806e24ae4703"
      },
      "outputs": [
        {
          "data": {
            "text/plain": [
              "<function matplotlib.pyplot.show(close=None, block=None)>"
            ]
          },
          "execution_count": 112,
          "metadata": {},
          "output_type": "execute_result"
        },
        {
          "data": {
            "image/png": "[encoded data removed]",
            "text/plain": [
              "<Figure size 640x480 with 1 Axes>"
            ]
          },
          "metadata": {},
          "output_type": "display_data"
        }
      ],
      "source": [
        "plt.pie( label_list.values(),labels=label_list.keys())\n",
        "plt.title('Biểu đồ tròn thể hiện tỉ lệ các nhãn trong tập train')\n",
        "plt.legend(loc='center left', bbox_to_anchor=(1, 0.5))\n",
        "plt.show"
      ]
    },
    {
      "cell_type": "markdown",
      "metadata": {
        "id": "UEFRtRQrqn6J"
      },
      "source": [
        "####*Biểu đồ tròn thể hiện tỉ lệ các nhãn có trong tập train*"
      ]
    },
    {
      "cell_type": "code",
      "execution_count": 113,
      "metadata": {
        "id": "ZmGVwXU8r6jj"
      },
      "outputs": [],
      "source": [
        "X_train_reshaped = X_train.reshape(-1, 784)"
      ]
    },
    {
      "cell_type": "markdown",
      "metadata": {
        "id": "PJI9Fw4OrCyQ"
      },
      "source": [
        "###(?) Sau khi thực hiện thao tác reshape trên tập train:\n",
        "- Mỗi điểm dữ liệu là một vector có số chiều là bao nhiêu?\n",
        ">Mỗi điểm dữ liệu là một vector có số chiều là: 784\n",
        "-Các số -1 và 784 có ý nghĩa gì?\n",
        ">Tham số -1 được sử dụng cho số lượng hàng, nghĩa là số lượng mẫu đào tạo không thay đổi sau khi reshape.\\\n",
        ">Số 784 là số lượng cột mới, tức là số lượng đặc trưng cho mỗi mẫu sau khi đã được làm phẳng.\n",
        "-Viết ra dạng của input X = …?\n",
        ">input X = (60000, 784)"
      ]
    },
    {
      "cell_type": "code",
      "execution_count": 114,
      "metadata": {
        "colab": {
          "base_uri": "https://localhost:8080/"
        },
        "id": "7uzeObgMscBN",
        "outputId": "f47c50e5-f8ea-498d-b5dd-7ac6ebe0e94c"
      },
      "outputs": [
        {
          "data": {
            "text/plain": [
              "(60000, 784)"
            ]
          },
          "execution_count": 114,
          "metadata": {},
          "output_type": "execute_result"
        }
      ],
      "source": [
        "X_train_reshaped.shape"
      ]
    },
    {
      "cell_type": "markdown",
      "metadata": {
        "id": "83aHrRc9siyM"
      },
      "source": [
        "###Tương tự, thực hiện thao tác reshape cho tập test."
      ]
    },
    {
      "cell_type": "code",
      "execution_count": 115,
      "metadata": {
        "id": "xChKi4JRuEDP"
      },
      "outputs": [],
      "source": [
        "X_test_reshaped = X_test.reshape(-1, 784)"
      ]
    },
    {
      "cell_type": "code",
      "execution_count": 116,
      "metadata": {
        "colab": {
          "base_uri": "https://localhost:8080/"
        },
        "id": "uTifDF1KuMET",
        "outputId": "541224fc-a1b2-478a-f3a8-ec9e450d83ae"
      },
      "outputs": [
        {
          "data": {
            "text/plain": [
              "(10000, 784)"
            ]
          },
          "execution_count": 116,
          "metadata": {},
          "output_type": "execute_result"
        }
      ],
      "source": [
        "X_test_reshaped.shape"
      ]
    },
    {
      "cell_type": "markdown",
      "metadata": {
        "id": "LXreLw5JssSB"
      },
      "source": [
        "###**(?) Điền từ hoặc số thích hợp vào chỗ trống trong những câu dưới đây:**"
      ]
    },
    {
      "cell_type": "markdown",
      "metadata": {
        "id": "9aIG_6fKj0EB"
      },
      "source": [
        ">Đầu ra của dữ liệu sẽ có từ 0 -> 9 tương ứng với 10 chữ số viết tay\\\n",
        ">Mỗi điểm dữ liệu được phân loại vào 1 trong 10 lớp tương ứng \\\n",
        ">Đây là bài toán multiclass classification"
      ]
    },
    {
      "cell_type": "code",
      "execution_count": 117,
      "metadata": {
        "id": "RdpWVu7fuP1t"
      },
      "outputs": [],
      "source": [
        "from tensorflow.keras.utils import to_categorical\n",
        "y_train = to_categorical(y_train, num_classes=10)"
      ]
    },
    {
      "cell_type": "code",
      "execution_count": 118,
      "metadata": {
        "colab": {
          "base_uri": "https://localhost:8080/"
        },
        "id": "8z9jRg--wH4e",
        "outputId": "dc3af13f-048b-4015-888a-4f0eeb376947"
      },
      "outputs": [
        {
          "data": {
            "text/plain": [
              "(60000, 10)"
            ]
          },
          "execution_count": 118,
          "metadata": {},
          "output_type": "execute_result"
        }
      ],
      "source": [
        "y_train.shape\n"
      ]
    },
    {
      "cell_type": "code",
      "execution_count": 119,
      "metadata": {
        "colab": {
          "base_uri": "https://localhost:8080/"
        },
        "id": "-6bAq14IwKvL",
        "outputId": "420131d1-f54a-4d20-ccc4-160ea2a0ebef"
      },
      "outputs": [
        {
          "data": {
            "text/plain": [
              "(10,)"
            ]
          },
          "execution_count": 119,
          "metadata": {},
          "output_type": "execute_result"
        }
      ],
      "source": [
        "y_train[5].shape"
      ]
    },
    {
      "cell_type": "markdown",
      "metadata": {
        "id": "SiuCllH4t8yV"
      },
      "source": [
        "###**(?) Sau khi thực hiện thao tác trên:**\n",
        "- Xác định kích thước của y_train?\n",
        ">y_train có kích thước ban đầu là (60000,).\n",
        "\n",
        "\n",
        "- Các số liệu này tương ứng với những đại\n",
        "lượng nào?\n",
        ">Số 60000 thể hiện số lượng mẫu.\n",
        ">Số 10 thể hiện số lượng lớp (num_classes).\n",
        "-  Viết ra vector tương ứng y_train[5]?\n",
        ">y_train[5] có dạng là [0, 0, 1, 0, 0, 0, 0, 0, 0, 0]\n",
        "- Các giá trị “1” và “0” trong mỗi vector có ý nghĩa gì?\n",
        ">Giá trị \"1\" ở vị trí i thể hiện rằng mẫu tương ứng thuộc vào lớp i.\\\n",
        ">Giá trị \"0\" ở tất cả các vị trí khác thể hiện rằng mẫu không thuộc vào các lớp đó.\n"
      ]
    },
    {
      "cell_type": "markdown",
      "metadata": {
        "id": "DyOgKFKEj0EC"
      },
      "source": [
        "<h2> 3. XÂY DỰNG MẠNG NEURAL BẰNG KERAS"
      ]
    },
    {
      "cell_type": "markdown",
      "metadata": {
        "id": "P43f3vzgwPDn"
      },
      "source": [
        "### 1. Kể tên và ghi công thức của một số hàm kích hoạt mà em biết?\n",
        "> ReLU (Rectified Linear Unit): $f(x) = \\max(0, x)$\\\n",
        "> Sigmoid: $f(x) = \\frac{1}{1 + e^{-x}}$\\\n",
        ">Tanh (tang hyperbolic): $f(x) = \\tanh(x)$\\\n",
        ">Softmax:  $f(x)_i = \\frac{e^{x_i}}{\\sum_{j} e^{x_j}}$"
      ]
    },
    {
      "cell_type": "code",
      "execution_count": 120,
      "metadata": {
        "id": "-JqxDEK-xqEF"
      },
      "outputs": [],
      "source": [
        "from keras.models import Sequential\n",
        "model = Sequential()"
      ]
    },
    {
      "cell_type": "code",
      "execution_count": 121,
      "metadata": {
        "id": "GQjiomAdxrYG"
      },
      "outputs": [],
      "source": [
        "from keras.layers import Dense\n",
        "\n",
        "model.add(Dense(784, input_shape=(784,)))"
      ]
    },
    {
      "cell_type": "code",
      "execution_count": 122,
      "metadata": {
        "colab": {
          "base_uri": "https://localhost:8080/"
        },
        "id": "tVDB2qGF0XNT",
        "outputId": "1929afc6-7738-41df-f053-b25c837eb6a2"
      },
      "outputs": [
        {
          "name": "stdout",
          "output_type": "stream",
          "text": [
            "Model: \"sequential_4\"\n",
            "_________________________________________________________________\n",
            " Layer (type)                Output Shape              Param #   \n",
            "=================================================================\n",
            " dense_8 (Dense)             (None, 784)               615440    \n",
            "                                                                 \n",
            "=================================================================\n",
            "Total params: 615440 (2.35 MB)\n",
            "Trainable params: 615440 (2.35 MB)\n",
            "Non-trainable params: 0 (0.00 Byte)\n",
            "_________________________________________________________________\n"
          ]
        }
      ],
      "source": [
        "  model.summary()"
      ]
    },
    {
      "cell_type": "code",
      "execution_count": 123,
      "metadata": {
        "id": "ueNNFsS-14Sc"
      },
      "outputs": [],
      "source": [
        "model.add(Dense(10, input_shape=(784, )))"
      ]
    },
    {
      "cell_type": "markdown",
      "metadata": {
        "id": "N7IsJOa4xl82"
      },
      "source": [
        "### 2. Xác định kích thước đầu ra (output_shape) của lớp được thêm vào mô hình?\n",
        "   > Output_shape sẽ là (10,)."
      ]
    },
    {
      "cell_type": "markdown",
      "metadata": {
        "id": "YUfQZ0nJxv3_"
      },
      "source": [
        "### 3. Tại sao số units ở lớp này lại là 10?\n",
        ">có 10 chữ số từ 0 đến 9, vì vậy số units là 10."
      ]
    },
    {
      "cell_type": "markdown",
      "metadata": {
        "id": "ER6WmvOQx08f"
      },
      "source": [
        "\n",
        "\n",
        "\n",
        "### 4. Tổng xác suất của các lớp bằng bao nhiêu?\n",
        "> Tổng xác suất bằng 1\n"
      ]
    },
    {
      "cell_type": "code",
      "execution_count": 124,
      "metadata": {
        "colab": {
          "base_uri": "https://localhost:8080/"
        },
        "id": "MJGyxwpx2EUt",
        "outputId": "d0fcd81c-f9cb-4631-e7ca-300d92360ce4"
      },
      "outputs": [
        {
          "name": "stdout",
          "output_type": "stream",
          "text": [
            "Model: \"sequential_4\"\n",
            "_________________________________________________________________\n",
            " Layer (type)                Output Shape              Param #   \n",
            "=================================================================\n",
            " dense_8 (Dense)             (None, 784)               615440    \n",
            "                                                                 \n",
            " dense_9 (Dense)             (None, 10)                7850      \n",
            "                                                                 \n",
            "=================================================================\n",
            "Total params: 623290 (2.38 MB)\n",
            "Trainable params: 623290 (2.38 MB)\n",
            "Non-trainable params: 0 (0.00 Byte)\n",
            "_________________________________________________________________\n"
          ]
        }
      ],
      "source": [
        "model.summary()"
      ]
    },
    {
      "cell_type": "code",
      "execution_count": 125,
      "metadata": {
        "colab": {
          "base_uri": "https://localhost:8080/"
        },
        "id": "2couAW642ldk",
        "outputId": "25d485f5-b735-498d-9997-239b0ab2c021"
      },
      "outputs": [
        {
          "data": {
            "text/plain": [
              "TensorShape([None, 10])"
            ]
          },
          "execution_count": 125,
          "metadata": {},
          "output_type": "execute_result"
        }
      ],
      "source": [
        "model.output.shape"
      ]
    },
    {
      "cell_type": "markdown",
      "metadata": {
        "id": "uHzuyvIFx9Kl"
      },
      "source": [
        "### 5. Hai layers trong mô hình trên tương ứng với những loại layer nào trong mô hình mạng neural tổng quát?\n",
        " > Dense layers, layer đầu tiên có 784 units và thứ hai có 10 units, là các lớp fully connected layers. có tổng cộng 615440 tham số\n",
        "\n",
        "\n"
      ]
    },
    {
      "cell_type": "markdown",
      "metadata": {
        "id": "_9fWMqDqj0EG"
      },
      "source": [
        "<h2> 4. HUẤN LUYỆN MÔ HÌNH"
      ]
    },
    {
      "cell_type": "code",
      "execution_count": 126,
      "metadata": {
        "id": "1ioQx0Os4cqC"
      },
      "outputs": [],
      "source": [
        "from tensorflow.keras.optimizers import Adam\n",
        "optimizer = Adam(learning_rate=0.01)"
      ]
    },
    {
      "cell_type": "code",
      "execution_count": 127,
      "metadata": {
        "id": "pfnJETnj5eew"
      },
      "outputs": [],
      "source": [
        "from tensorflow.keras.losses import BinaryCrossentropy\n",
        "loss = BinaryCrossentropy()"
      ]
    },
    {
      "cell_type": "code",
      "execution_count": 130,
      "metadata": {
        "id": "oObTz3z_5mLO"
      },
      "outputs": [],
      "source": [
        "model.compile(optimizer=optimizer, loss=loss, metrics=['accuracy'])"
      ]
    },
    {
      "cell_type": "markdown",
      "metadata": {
        "id": "IS8jKOJdz0QK"
      },
      "source": [
        "###(?) Vì sao cần set giá trị learning_rate nhỏ?\n",
        ">Vì nó ảnh hưởng đến tốc độ học của mô hình. Learning_rate nhỏ, mô hình có xu hướng hội tụ ổn định hơn, nghĩa là giảm thiểu hàm mất mát một cách chắc chắn hơn."
      ]
    },
    {
      "cell_type": "markdown",
      "metadata": {
        "id": "QydHpJT00db8"
      },
      "source": [
        "###Viết công thức tính loss Cross Entropy cho bài toán phân lớp nhị phân “cat vs .non-cat” với hai nhãn là y = 1 (cat) và y = 0 (non-cat) (Chú thích các đại lượng trong công thức)?\n",
        ">Binary Cross Entropy Loss : $$\n",
        "L_{bce} = -\\frac{1}{m} \\sum_{i=1}^m y_i \\log(p_i) + (1-y_i) \\log(1-p_i)\n",
        "$$\n"
      ]
    },
    {
      "cell_type": "code",
      "execution_count": 131,
      "metadata": {
        "colab": {
          "base_uri": "https://localhost:8080/"
        },
        "id": "Vdpwx8Jx24pD",
        "outputId": "820a020b-c949-44ad-f65a-620b7678e366"
      },
      "outputs": [
        {
          "name": "stdout",
          "output_type": "stream",
          "text": [
            "Epoch 1/10\n",
            "469/469 [==============================] - 7s 14ms/step - loss: 2.7472 - accuracy: 0.1044\n",
            "Epoch 2/10\n",
            "469/469 [==============================] - 7s 14ms/step - loss: 2.7472 - accuracy: 0.1044\n",
            "Epoch 3/10\n",
            "469/469 [==============================] - 6s 13ms/step - loss: 2.7472 - accuracy: 0.1044\n",
            "Epoch 4/10\n",
            "469/469 [==============================] - 7s 15ms/step - loss: 2.7472 - accuracy: 0.1044\n",
            "Epoch 5/10\n",
            "469/469 [==============================] - 7s 14ms/step - loss: 2.7472 - accuracy: 0.1044\n",
            "Epoch 6/10\n",
            "469/469 [==============================] - 7s 14ms/step - loss: 2.7472 - accuracy: 0.1044\n",
            "Epoch 7/10\n",
            "469/469 [==============================] - 6s 14ms/step - loss: 2.7472 - accuracy: 0.1044\n",
            "Epoch 8/10\n",
            "469/469 [==============================] - 7s 16ms/step - loss: 2.7472 - accuracy: 0.1044\n",
            "Epoch 9/10\n",
            "469/469 [==============================] - 6s 13ms/step - loss: 2.7472 - accuracy: 0.1044\n",
            "Epoch 10/10\n",
            "469/469 [==============================] - 7s 15ms/step - loss: 2.7472 - accuracy: 0.1044\n",
            "Thời gian huấn luyện: 82.65889930725098 giây\n"
          ]
        }
      ],
      "source": [
        "import time\n",
        "\n",
        "# Ghi lại thời điểm bắt đầu huấn luyện\n",
        "start_time = time.time()\n",
        "\n",
        "# Tiến hành huấn luyện mô hình\n",
        "model.fit(X_train_reshaped, y_train, batch_size=128, epochs=10)\n",
        "\n",
        "# Tính thời gian huấn luyện\n",
        "end_time = time.time()\n",
        "training_time = end_time - start_time\n",
        "\n",
        "# In ra thời gian huấn luyện\n",
        "print(f\"Thời gian huấn luyện: {training_time} giây\")\n"
      ]
    },
    {
      "cell_type": "markdown",
      "metadata": {
        "id": "2ily9QGt4Q09"
      },
      "source": [
        ">Vậy thời gian huấn luyện mô hình là: 82.66 giây."
      ]
    },
    {
      "cell_type": "markdown",
      "metadata": {
        "id": "LHkCuLPdj0EI"
      },
      "source": [
        "<h2> 5. ĐÁNH GIÁ MÔ HÌNH\n"
      ]
    },
    {
      "cell_type": "code",
      "execution_count": 132,
      "metadata": {
        "colab": {
          "base_uri": "https://localhost:8080/"
        },
        "id": "WQN7B07oj0EI",
        "outputId": "b01a81d5-fe73-4b0a-c42b-687ee8d1e829"
      },
      "outputs": [
        {
          "name": "stdout",
          "output_type": "stream",
          "text": [
            "313/313 [==============================] - 1s 4ms/step\n"
          ]
        }
      ],
      "source": [
        "y_pred = model.predict(X_test_reshaped)"
      ]
    },
    {
      "cell_type": "code",
      "execution_count": 133,
      "metadata": {
        "colab": {
          "base_uri": "https://localhost:8080/"
        },
        "id": "3iUkQH2fj0EK",
        "outputId": "4e815598-06ce-4919-836d-4337ee0020da"
      },
      "outputs": [
        {
          "data": {
            "text/plain": [
              "(10000, 10)"
            ]
          },
          "execution_count": 133,
          "metadata": {},
          "output_type": "execute_result"
        }
      ],
      "source": [
        "y_pred.shape"
      ]
    },
    {
      "cell_type": "code",
      "execution_count": 134,
      "metadata": {
        "colab": {
          "base_uri": "https://localhost:8080/"
        },
        "id": "FNAHBLxXj0EK",
        "outputId": "4751dc7d-d197-4ea6-f4ec-1aef9ca277e1"
      },
      "outputs": [
        {
          "data": {
            "text/plain": [
              "(10000,)"
            ]
          },
          "execution_count": 134,
          "metadata": {},
          "output_type": "execute_result"
        }
      ],
      "source": [
        "y_test.shape"
      ]
    },
    {
      "cell_type": "markdown",
      "metadata": {
        "id": "WI-LpmDF5qP2"
      },
      "source": [
        "###**(?) Kết quả dự đoán của mô hình sẽ là một ma trận có kích thước a x b.**\n",
        "- Hãy xác định các giá trị a, b?\n",
        ">a=10000\\\n",
        ">b=10\n",
        "- Nêu ý nghĩa của các giá trị a, b?\n",
        ">a là số lượng mẫu trong tập test.\\\n",
        ">b là số lượng lớp của mô hình."
      ]
    },
    {
      "cell_type": "code",
      "execution_count": 135,
      "metadata": {
        "id": "sfZIqwSfj0EL"
      },
      "outputs": [],
      "source": [
        "import numpy as np\n",
        "y_pred_label = np.argmax(y_pred, axis=-1)"
      ]
    },
    {
      "cell_type": "code",
      "execution_count": 136,
      "metadata": {
        "colab": {
          "base_uri": "https://localhost:8080/"
        },
        "id": "QsnbxtIfj0EL",
        "outputId": "c21d1e27-d823-4488-c506-7973a7c81c0c"
      },
      "outputs": [
        {
          "name": "stdout",
          "output_type": "stream",
          "text": [
            "Accuracy cua mo hinh la: 10.280000000000001%\n"
          ]
        }
      ],
      "source": [
        "from sklearn.metrics import accuracy_score\n",
        "print(f\"Accuracy cua mo hinh la: {accuracy_score(y_test, y_pred_label)*100}%\")"
      ]
    },
    {
      "cell_type": "markdown",
      "metadata": {
        "id": "mO1I2W7Mj0EL"
      },
      "source": [
        "<h2> 6. LƯU MÔ HÌNH\n"
      ]
    },
    {
      "cell_type": "code",
      "execution_count": 137,
      "metadata": {
        "id": "5q1eOwn-j0EL"
      },
      "outputs": [],
      "source": [
        "model.save('my_model.keras')"
      ]
    },
    {
      "cell_type": "markdown",
      "metadata": {
        "id": "hPQmQtqe94Yt"
      },
      "source": [
        "###(?) Việc lưu lại mô hình có tác dụng gì?"
      ]
    },
    {
      "cell_type": "markdown",
      "metadata": {
        "id": "Wd6pasY-9yRf"
      },
      "source": [
        "- Tái sử dụng mô hình: Bạn có thể sử dụng mô hình đã được huấn luyện cho các ứng dụng khác mà không cần phải huấn luyện lại từ đầu. Điều này tiết kiệm thời gian và nguồn lực tính toán.\n",
        "- Deployai mô hình: Mô hình cần được lưu lại để triển khai trong các ứng dụng thực tế. Sau khi huấn luyện, bạn có thể tính toán dự đoán cho các dữ liệu mới mà không cần phải tính toán lại từ đầu."
      ]
    },
    {
      "cell_type": "code",
      "execution_count": 40,
      "metadata": {
        "colab": {
          "base_uri": "https://localhost:8080/"
        },
        "id": "3kiDEwgLj0EM",
        "outputId": "ef93b17f-5c87-45ef-a806-afec40517938"
      },
      "outputs": [
        {
          "data": {
            "text/plain": [
              "[<keras.src.layers.core.dense.Dense at 0x7af497daa620>,\n",
              " <keras.src.layers.core.dense.Dense at 0x7af497daae30>]"
            ]
          },
          "execution_count": 40,
          "metadata": {},
          "output_type": "execute_result"
        }
      ],
      "source": [
        "from keras.models import load_model\n",
        "model = load_model('my_model.keras')\n",
        "model.layers"
      ]
    },
    {
      "cell_type": "markdown",
      "metadata": {
        "id": "FuKaGnLF-RCI"
      },
      "source": [
        "<h2>7. MỘT SỐ THAO TÁC XỬ LÝ KHÁC VỚI MẠNG NEURAL"
      ]
    },
    {
      "cell_type": "code",
      "execution_count": 139,
      "metadata": {
        "colab": {
          "base_uri": "https://localhost:8080/"
        },
        "id": "2hLBEggG_FDw",
        "outputId": "cf1fc637-f0c6-4248-fdf7-b309f430077e"
      },
      "outputs": [
        {
          "name": "stdout",
          "output_type": "stream",
          "text": [
            "Model: \"sequential_4\"\n",
            "_________________________________________________________________\n",
            " Layer (type)                Output Shape              Param #   \n",
            "=================================================================\n",
            " dense_8 (Dense)             (None, 784)               615440    \n",
            "                                                                 \n",
            " dense_9 (Dense)             (None, 10)                7850      \n",
            "                                                                 \n",
            "=================================================================\n",
            "Total params: 623290 (2.38 MB)\n",
            "Trainable params: 623290 (2.38 MB)\n",
            "Non-trainable params: 0 (0.00 Byte)\n",
            "_________________________________________________________________\n"
          ]
        }
      ],
      "source": [
        "model.summary()"
      ]
    },
    {
      "cell_type": "markdown",
      "metadata": {
        "id": "iV9onAAc_eis"
      },
      "source": [
        "###**(?) Sử dụng lệnh summary để xem cấu trúc của mô hình và cho biết kết quả?**"
      ]
    },
    {
      "cell_type": "markdown",
      "metadata": {
        "id": "UDm9Rzw1_Yom"
      },
      "source": [
        ">Gồm hai lớp Dense:\\\n",
        "Denselayer đầu tiên có 784 units và thứ hai có 10 units, là các lớp fully connected layers. có tổng cộng 623290 tham số\n"
      ]
    },
    {
      "cell_type": "code",
      "execution_count": 140,
      "metadata": {
        "colab": {
          "base_uri": "https://localhost:8080/"
        },
        "id": "2Gkca_HK_E_Q",
        "outputId": "aebc2b60-b435-483e-8971-3c6e5900310d"
      },
      "outputs": [
        {
          "data": {
            "text/plain": [
              "[<keras.src.layers.core.dense.Dense at 0x7af4b15d5090>,\n",
              " <keras.src.layers.core.dense.Dense at 0x7af4b1389ed0>]"
            ]
          },
          "execution_count": 140,
          "metadata": {},
          "output_type": "execute_result"
        }
      ],
      "source": [
        "model.layers"
      ]
    },
    {
      "cell_type": "code",
      "execution_count": 143,
      "metadata": {
        "id": "8C1X0r7x_E8v"
      },
      "outputs": [],
      "source": [
        "layer_id = 1  # Thay thế số này bằng chỉ số lớp bạn quan tâm\n",
        "layer = model.get_layer(index=layer_id)\n"
      ]
    },
    {
      "cell_type": "code",
      "execution_count": 144,
      "metadata": {
        "id": "qsCfm6DxBO_V"
      },
      "outputs": [],
      "source": [
        "# Xem tham số của mô hình\n",
        "model_params = model.weights\n",
        "# Hoặc\n",
        "model_params = model.get_weights()\n",
        "\n",
        "# Xem tham số của một lớp\n",
        "layer_params = model.layers[layer_id].weights\n",
        "# Hoặc\n",
        "layer_params = model.layers[layer_id].get_weights()\n"
      ]
    },
    {
      "cell_type": "code",
      "execution_count": 145,
      "metadata": {
        "id": "xXGgFPFoBb0O"
      },
      "outputs": [],
      "source": [
        "model.pop()\n"
      ]
    },
    {
      "cell_type": "code",
      "execution_count": 146,
      "metadata": {
        "colab": {
          "base_uri": "https://localhost:8080/"
        },
        "id": "zTEYgK12BgON",
        "outputId": "00aa5af4-f327-487a-897b-e9cc6d968a30"
      },
      "outputs": [
        {
          "name": "stdout",
          "output_type": "stream",
          "text": [
            "Model: \"sequential_4\"\n",
            "_________________________________________________________________\n",
            " Layer (type)                Output Shape              Param #   \n",
            "=================================================================\n",
            " dense_8 (Dense)             (None, 784)               615440    \n",
            "                                                                 \n",
            "=================================================================\n",
            "Total params: 615440 (2.35 MB)\n",
            "Trainable params: 615440 (2.35 MB)\n",
            "Non-trainable params: 0 (0.00 Byte)\n",
            "_________________________________________________________________\n"
          ]
        }
      ],
      "source": [
        "model.summary()\n"
      ]
    },
    {
      "cell_type": "markdown",
      "metadata": {
        "id": "gC0XgG9LBtK1"
      },
      "source": [
        "###(?) Sử dụng lệnh summary để xem cấu trúc của mô hình và cho biết kết quả?"
      ]
    },
    {
      "cell_type": "markdown",
      "metadata": {
        "id": "9YXK_OH1CNz5"
      },
      "source": [
        ">Dense layer có 784 units, là lớp fully connected layers. có tổng cộng 615440 tham số"
      ]
    },
    {
      "cell_type": "code",
      "execution_count": 147,
      "metadata": {
        "id": "Jkoj8EaXBkWA"
      },
      "outputs": [],
      "source": [
        "del model\n"
      ]
    },
    {
      "cell_type": "markdown",
      "metadata": {
        "id": "kH-GhlpSj0EM"
      },
      "source": [
        "<h2>8. BÀI TẬP"
      ]
    },
    {
      "cell_type": "markdown",
      "metadata": {
        "id": "yvHYbr1LCiL1"
      },
      "source": [
        "<h3>Bài tập 1"
      ]
    },
    {
      "cell_type": "code",
      "execution_count": 148,
      "metadata": {
        "id": "LO5AieDHj0EM"
      },
      "outputs": [],
      "source": [
        "from tensorflow.keras.models import Sequential\n",
        "from tensorflow.keras.layers import Dense\n",
        "\n",
        "model_1 = Sequential()\n",
        "model_1.add(Dense(784, input_shape=(784, ), activation='sigmoid'))"
      ]
    },
    {
      "cell_type": "code",
      "execution_count": 149,
      "metadata": {
        "colab": {
          "base_uri": "https://localhost:8080/"
        },
        "id": "cRPovV21j0EN",
        "outputId": "ad51658f-f6ea-4555-d06b-5b61cdf9c708"
      },
      "outputs": [
        {
          "name": "stdout",
          "output_type": "stream",
          "text": [
            "Model: \"sequential_5\"\n",
            "_________________________________________________________________\n",
            " Layer (type)                Output Shape              Param #   \n",
            "=================================================================\n",
            " dense_10 (Dense)            (None, 784)               615440    \n",
            "                                                                 \n",
            "=================================================================\n",
            "Total params: 615440 (2.35 MB)\n",
            "Trainable params: 615440 (2.35 MB)\n",
            "Non-trainable params: 0 (0.00 Byte)\n",
            "_________________________________________________________________\n"
          ]
        }
      ],
      "source": [
        "model_1.summary()"
      ]
    },
    {
      "cell_type": "code",
      "execution_count": 150,
      "metadata": {
        "id": "Ady97MQ9j0EN"
      },
      "outputs": [],
      "source": [
        "model_1.add(Dense(10, input_shape=(784, ), activation='sigmoid'))"
      ]
    },
    {
      "cell_type": "code",
      "execution_count": 151,
      "metadata": {
        "colab": {
          "base_uri": "https://localhost:8080/"
        },
        "id": "QuojJ8kuj0EN",
        "outputId": "2bcd46db-1c53-413c-da95-ed0cf08ad815"
      },
      "outputs": [
        {
          "name": "stdout",
          "output_type": "stream",
          "text": [
            "Model: \"sequential_5\"\n",
            "_________________________________________________________________\n",
            " Layer (type)                Output Shape              Param #   \n",
            "=================================================================\n",
            " dense_10 (Dense)            (None, 784)               615440    \n",
            "                                                                 \n",
            " dense_11 (Dense)            (None, 10)                7850      \n",
            "                                                                 \n",
            "=================================================================\n",
            "Total params: 623290 (2.38 MB)\n",
            "Trainable params: 623290 (2.38 MB)\n",
            "Non-trainable params: 0 (0.00 Byte)\n",
            "_________________________________________________________________\n"
          ]
        }
      ],
      "source": [
        "model_1.summary()"
      ]
    },
    {
      "cell_type": "code",
      "execution_count": 152,
      "metadata": {
        "id": "oT8_8Myaj0EN"
      },
      "outputs": [],
      "source": [
        "optimizer_1 = Adam(learning_rate=0.01)\n",
        "loss_1 = BinaryCrossentropy()\n",
        "model_1.compile(optimizer=optimizer_1, loss=loss_1, metrics=['accuracy'])"
      ]
    },
    {
      "cell_type": "code",
      "execution_count": 153,
      "metadata": {
        "colab": {
          "base_uri": "https://localhost:8080/"
        },
        "id": "rerabquuj0EO",
        "outputId": "9db746fd-b0d5-41ea-8ac9-5200eb18f959"
      },
      "outputs": [
        {
          "name": "stdout",
          "output_type": "stream",
          "text": [
            "Epoch 1/10\n",
            "469/469 [==============================] - 8s 16ms/step - loss: 0.1269 - accuracy: 0.7976\n",
            "Epoch 2/10\n",
            "469/469 [==============================] - 6s 13ms/step - loss: 0.1060 - accuracy: 0.8320\n",
            "Epoch 3/10\n",
            "469/469 [==============================] - 7s 16ms/step - loss: 0.0966 - accuracy: 0.8475\n",
            "Epoch 4/10\n",
            "469/469 [==============================] - 6s 13ms/step - loss: 0.0982 - accuracy: 0.8430\n",
            "Epoch 5/10\n",
            "469/469 [==============================] - 8s 17ms/step - loss: 0.0903 - accuracy: 0.8559\n",
            "Epoch 6/10\n",
            "469/469 [==============================] - 9s 19ms/step - loss: 0.0899 - accuracy: 0.8572\n",
            "Epoch 7/10\n",
            "469/469 [==============================] - 8s 17ms/step - loss: 0.0909 - accuracy: 0.8547\n",
            "Epoch 8/10\n",
            "469/469 [==============================] - 9s 19ms/step - loss: 0.0949 - accuracy: 0.8467\n",
            "Epoch 9/10\n",
            "469/469 [==============================] - 8s 17ms/step - loss: 0.0882 - accuracy: 0.8631\n",
            "Epoch 10/10\n",
            "469/469 [==============================] - 8s 18ms/step - loss: 0.0822 - accuracy: 0.8712\n"
          ]
        },
        {
          "data": {
            "text/plain": [
              "<keras.src.callbacks.History at 0x7af4b74efd00>"
            ]
          },
          "execution_count": 153,
          "metadata": {},
          "output_type": "execute_result"
        }
      ],
      "source": [
        "model_1.fit(X_train_reshaped, y_train, batch_size=128, epochs=10)"
      ]
    },
    {
      "cell_type": "code",
      "execution_count": 154,
      "metadata": {
        "colab": {
          "base_uri": "https://localhost:8080/"
        },
        "id": "-Vq-Nb_Wj0EO",
        "outputId": "b46221cd-f949-4a12-c31a-8ea032b14067"
      },
      "outputs": [
        {
          "name": "stdout",
          "output_type": "stream",
          "text": [
            "313/313 [==============================] - 4s 10ms/step\n"
          ]
        }
      ],
      "source": [
        "y_pred_1 = model_1.predict(X_test_reshaped)\n",
        "y_pred_new = np.argmax(y_pred_1, axis=-1)"
      ]
    },
    {
      "cell_type": "code",
      "execution_count": 155,
      "metadata": {
        "colab": {
          "base_uri": "https://localhost:8080/"
        },
        "id": "qZugOwFOj0EO",
        "outputId": "157fe39d-aacf-45bb-9aac-2b721a20d75d"
      },
      "outputs": [
        {
          "name": "stdout",
          "output_type": "stream",
          "text": [
            "Accuracy cua mo hinh su dung softmax la: 87.26%\n"
          ]
        }
      ],
      "source": [
        "print(f\"Accuracy cua mo hinh su dung softmax la: {accuracy_score(y_test, y_pred_new)*100}%\")"
      ]
    },
    {
      "cell_type": "markdown",
      "metadata": {
        "id": "mSRpAqTLHfXb"
      },
      "source": [
        "<h3> Bài tập 2"
      ]
    },
    {
      "cell_type": "code",
      "execution_count": 156,
      "metadata": {
        "colab": {
          "base_uri": "https://localhost:8080/"
        },
        "id": "YEpOTcfr5rz0",
        "outputId": "704e7dd0-912e-46af-c7f1-d2f3bc0bad6c"
      },
      "outputs": [
        {
          "name": "stdout",
          "output_type": "stream",
          "text": [
            "Model: \"sequential_6\"\n",
            "_________________________________________________________________\n",
            " Layer (type)                Output Shape              Param #   \n",
            "=================================================================\n",
            " dense_12 (Dense)            (None, 784)               615440    \n",
            "                                                                 \n",
            " dense_13 (Dense)            (None, 10)                7850      \n",
            "                                                                 \n",
            "=================================================================\n",
            "Total params: 623290 (2.38 MB)\n",
            "Trainable params: 623290 (2.38 MB)\n",
            "Non-trainable params: 0 (0.00 Byte)\n",
            "_________________________________________________________________\n"
          ]
        }
      ],
      "source": [
        "from tensorflow.keras.models import Sequential\n",
        "from tensorflow.keras.layers import Dense\n",
        "\n",
        "model_2 = Sequential()\n",
        "model_2.add(Dense(784, input_shape=(784, ), activation='relu'))\n",
        "model_2.add(Dense(10, input_shape=(784, ), activation='sigmoid'))\n",
        "model_2.summary()\n"
      ]
    },
    {
      "cell_type": "code",
      "execution_count": 157,
      "metadata": {
        "id": "BPstGsNrj0EP"
      },
      "outputs": [],
      "source": [
        "optimizer_2 = Adam(learning_rate=0.01)\n",
        "loss_2 = BinaryCrossentropy()\n",
        "model_2.compile(optimizer=optimizer_2, loss=loss_2, metrics=['accuracy'])"
      ]
    },
    {
      "cell_type": "code",
      "execution_count": 158,
      "metadata": {
        "colab": {
          "base_uri": "https://localhost:8080/"
        },
        "id": "CfkbmLTEj0EP",
        "outputId": "111178df-ada9-4363-d0f5-9c89c0d8a40c"
      },
      "outputs": [
        {
          "name": "stdout",
          "output_type": "stream",
          "text": [
            "Epoch 1/10\n",
            "469/469 [==============================] - 7s 13ms/step - loss: 2.4616 - accuracy: 0.8902\n",
            "Epoch 2/10\n",
            "469/469 [==============================] - 7s 16ms/step - loss: 0.0447 - accuracy: 0.9423\n",
            "Epoch 3/10\n",
            "469/469 [==============================] - 6s 13ms/step - loss: 0.0392 - accuracy: 0.9492\n",
            "Epoch 4/10\n",
            "469/469 [==============================] - 7s 15ms/step - loss: 0.0395 - accuracy: 0.9499\n",
            "Epoch 5/10\n",
            "469/469 [==============================] - 6s 13ms/step - loss: 0.0422 - accuracy: 0.9476\n",
            "Epoch 6/10\n",
            "469/469 [==============================] - 7s 15ms/step - loss: 0.0427 - accuracy: 0.9450\n",
            "Epoch 7/10\n",
            "469/469 [==============================] - 6s 13ms/step - loss: 0.0471 - accuracy: 0.9399\n",
            "Epoch 8/10\n",
            "469/469 [==============================] - 11s 23ms/step - loss: 0.0643 - accuracy: 0.9167\n",
            "Epoch 9/10\n",
            "469/469 [==============================] - 6s 14ms/step - loss: 0.0693 - accuracy: 0.9027\n",
            "Epoch 10/10\n",
            "469/469 [==============================] - 7s 14ms/step - loss: 0.0812 - accuracy: 0.8789\n"
          ]
        },
        {
          "data": {
            "text/plain": [
              "<keras.src.callbacks.History at 0x7af4b1885e40>"
            ]
          },
          "execution_count": 158,
          "metadata": {},
          "output_type": "execute_result"
        }
      ],
      "source": [
        "model_2.fit(X_train_reshaped, y_train, batch_size=128, epochs=10)"
      ]
    },
    {
      "cell_type": "code",
      "execution_count": 159,
      "metadata": {
        "colab": {
          "base_uri": "https://localhost:8080/"
        },
        "id": "W-CdwW47j0EP",
        "outputId": "3619f3a0-6337-4b06-a3ab-a6c0948071aa"
      },
      "outputs": [
        {
          "name": "stdout",
          "output_type": "stream",
          "text": [
            "313/313 [==============================] - 1s 3ms/step\n",
            "Accuracy cua mo hinh su dung softmax va ReLU la: 82.89%\n"
          ]
        }
      ],
      "source": [
        "y_pred_2 = model_2.predict(X_test_reshaped)\n",
        "y_pred_2 = np.argmax(y_pred_2, axis=-1)\n",
        "\n",
        "score_2 = accuracy_score(y_test, y_pred_2)\n",
        "print(f\"Accuracy cua mo hinh su dung softmax va ReLU la: {score_2*100}%\")"
      ]
    },
    {
      "cell_type": "markdown",
      "metadata": {
        "id": "7oPqK_qSj0EP"
      },
      "source": [
        "<h3>Bài tập 3"
      ]
    },
    {
      "cell_type": "code",
      "execution_count": 160,
      "metadata": {
        "colab": {
          "base_uri": "https://localhost:8080/"
        },
        "id": "_DoabDu9H8Z9",
        "outputId": "3b9b3d58-5280-478b-f8b4-3b05e48862cd"
      },
      "outputs": [
        {
          "data": {
            "text/plain": [
              "(60000, 28, 28)"
            ]
          },
          "execution_count": 160,
          "metadata": {},
          "output_type": "execute_result"
        }
      ],
      "source": [
        "\n",
        "X_train_new = X_train / 255.0\n",
        "X_test_new = X_test / 255.0\n",
        "X_train_new.shape"
      ]
    },
    {
      "cell_type": "code",
      "execution_count": 161,
      "metadata": {
        "id": "OcGiuTXUI_0r"
      },
      "outputs": [],
      "source": [
        "X_train_new_reshape = X_train_new.reshape(-1, 784)\n",
        "X_test_new_reshape = X_test_new.reshape(-1, 784)\n"
      ]
    },
    {
      "cell_type": "code",
      "execution_count": 162,
      "metadata": {
        "colab": {
          "base_uri": "https://localhost:8080/"
        },
        "id": "PbVMoPliJthL",
        "outputId": "246e9cde-e42a-4a40-ff92-503135b2d98d"
      },
      "outputs": [
        {
          "name": "stdout",
          "output_type": "stream",
          "text": [
            "Model: \"sequential_7\"\n",
            "_________________________________________________________________\n",
            " Layer (type)                Output Shape              Param #   \n",
            "=================================================================\n",
            " dense_14 (Dense)            (None, 784)               615440    \n",
            "                                                                 \n",
            " dense_15 (Dense)            (None, 10)                7850      \n",
            "                                                                 \n",
            "=================================================================\n",
            "Total params: 623290 (2.38 MB)\n",
            "Trainable params: 623290 (2.38 MB)\n",
            "Non-trainable params: 0 (0.00 Byte)\n",
            "_________________________________________________________________\n"
          ]
        }
      ],
      "source": [
        "from tensorflow.keras.models import Sequential\n",
        "from tensorflow.keras.layers import Dense\n",
        "\n",
        "model_3 = Sequential()\n",
        "model_3.add(Dense(784, input_shape=(784, ), activation='relu'))\n",
        "model_3.add(Dense(10, input_shape=(784, ), activation='sigmoid'))\n",
        "model_3.summary()"
      ]
    },
    {
      "cell_type": "code",
      "execution_count": 163,
      "metadata": {
        "id": "syw2CM_TLLqw"
      },
      "outputs": [],
      "source": [
        "optimizer_3 = Adam(learning_rate=0.01)\n",
        "loss_3 = BinaryCrossentropy()\n",
        "model_3.compile(optimizer=optimizer_3, loss=loss_3, metrics=['accuracy'])"
      ]
    },
    {
      "cell_type": "code",
      "execution_count": 164,
      "metadata": {
        "colab": {
          "base_uri": "https://localhost:8080/"
        },
        "id": "wEsuBO-5j0EQ",
        "outputId": "4580b846-1f38-4cf4-d719-5c50f3bfa9ef"
      },
      "outputs": [
        {
          "name": "stdout",
          "output_type": "stream",
          "text": [
            "Epoch 1/10\n",
            "469/469 [==============================] - 8s 15ms/step - loss: 0.0434 - accuracy: 0.9360\n",
            "Epoch 2/10\n",
            "469/469 [==============================] - 6s 13ms/step - loss: 0.0194 - accuracy: 0.9729\n",
            "Epoch 3/10\n",
            "469/469 [==============================] - 7s 15ms/step - loss: 0.0147 - accuracy: 0.9805\n",
            "Epoch 4/10\n",
            "469/469 [==============================] - 6s 12ms/step - loss: 0.0130 - accuracy: 0.9842\n",
            "Epoch 5/10\n",
            "469/469 [==============================] - 7s 15ms/step - loss: 0.0110 - accuracy: 0.9871\n",
            "Epoch 6/10\n",
            "469/469 [==============================] - 6s 13ms/step - loss: 0.0099 - accuracy: 0.9887\n",
            "Epoch 7/10\n",
            "469/469 [==============================] - 7s 15ms/step - loss: 0.0089 - accuracy: 0.9905\n",
            "Epoch 8/10\n",
            "469/469 [==============================] - 6s 13ms/step - loss: 0.0085 - accuracy: 0.9912\n",
            "Epoch 9/10\n",
            "469/469 [==============================] - 7s 15ms/step - loss: 0.0076 - accuracy: 0.9926\n",
            "Epoch 10/10\n",
            "469/469 [==============================] - 6s 13ms/step - loss: 0.0070 - accuracy: 0.9933\n"
          ]
        },
        {
          "data": {
            "text/plain": [
              "<keras.src.callbacks.History at 0x7af47230e5f0>"
            ]
          },
          "execution_count": 164,
          "metadata": {},
          "output_type": "execute_result"
        }
      ],
      "source": [
        "model_3.fit(X_train_new_reshape, y_train, batch_size=128, epochs=10)"
      ]
    },
    {
      "cell_type": "code",
      "execution_count": 165,
      "metadata": {
        "colab": {
          "base_uri": "https://localhost:8080/"
        },
        "id": "YAQMdbpTj0EQ",
        "outputId": "75419219-121f-42e1-dd11-e8696627fe0d"
      },
      "outputs": [
        {
          "name": "stdout",
          "output_type": "stream",
          "text": [
            "313/313 [==============================] - 2s 5ms/step\n",
            "Accuracy cua mo hinh sau khi chuan hoa la: 97.95%\n"
          ]
        }
      ],
      "source": [
        "y_pred_3 = model_3.predict(X_test_new_reshape)\n",
        "y_pred_3 = np.argmax(y_pred_3, axis=-1)\n",
        "\n",
        "score_normalized = accuracy_score(y_test, y_pred_3)\n",
        "print(f\"Accuracy cua mo hinh sau khi chuan hoa la: {score_normalized*100}%\")"
      ]
    },
    {
      "cell_type": "code",
      "execution_count": 166,
      "metadata": {
        "colab": {
          "base_uri": "https://localhost:8080/",
          "height": 456
        },
        "id": "__WHPcQOj0ER",
        "outputId": "b60b3a8d-2604-46c6-e25b-d4544f441afe"
      },
      "outputs": [
        {
          "data": {
            "image/png": "[encoded data removed]",
            "text/plain": [
              "<Figure size 640x480 with 1 Axes>"
            ]
          },
          "metadata": {},
          "output_type": "display_data"
        }
      ],
      "source": [
        "plt.bar(['Không chuẩn hóa','Chuẩn hóa'],[score_2,score_normalized])\n",
        "plt.ylabel('Độ chính xác')\n",
        "plt.title(\"Biểu đồ so sánh độ đo Accuracy của mô hình khi chuẩn hóa và không chuẩn hóa dữ liệu\")\n",
        "plt.show()"
      ]
    },
    {
      "cell_type": "markdown",
      "metadata": {
        "id": "7eUhC0ZUD0Nn"
      },
      "source": [
        ">Như vậy, Aaccuracy của mô hình khi chuẩn hoá (97.95%) cao hơn khi không chuẩn hoá dữ liệu."
      ]
    },
    {
      "cell_type": "markdown",
      "metadata": {
        "id": "yt6lwOq3EP7Y"
      },
      "source": [
        "<hr>\n",
        "<center>HẾT\n",
        "<hr>"
      ]
    },
    {
      "cell_type": "markdown",
      "metadata": {},
      "source": []
    }
  ],
  "metadata": {
    "colab": {
      "gpuType": "T4",
      "provenance": []
    },
    "kernelspec": {
      "display_name": "Python 3 (ipykernel)",
      "language": "python",
      "name": "python3"
    },
    "language_info": {
      "codemirror_mode": {
        "name": "ipython",
        "version": 3
      },
      "file_extension": ".py",
      "mimetype": "text/x-python",
      "name": "python",
      "nbconvert_exporter": "python",
      "pygments_lexer": "ipython3",
      "version": "3.12.0"
    }
  },
  "nbformat": 4,
  "nbformat_minor": 0
}
